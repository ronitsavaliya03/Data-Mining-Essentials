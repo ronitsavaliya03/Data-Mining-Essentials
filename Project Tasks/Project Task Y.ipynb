{
 "cells": [
  {
   "cell_type": "markdown",
   "id": "e8e2314d-63da-4b7a-9c3e-e69223061cbc",
   "metadata": {},
   "source": [
    "<a href='https://www.darshan.ac.in/'> <img src='https://www.darshan.ac.in/Content/media/DU_Logo.svg' width=\"250\" height=\"300\"/></a>\n",
    "<pre>\n",
    "<center><b><h1>Data Mining</b></center>\n",
    "<center><b><h1>Dataset- Online Retail- PCA</b></center> \n",
    "<center><b><h1>Ronit Savaliya | 23010101247</b></center>    \n",
    "<pre>"
   ]
  },
  {
   "cell_type": "markdown",
   "id": "4bd9a3ac-a590-43ab-a7a1-4982125b5b79",
   "metadata": {},
   "source": [
    "<h3>Step 1: Load the Dataset</h3>"
   ]
  },
  {
   "cell_type": "code",
   "execution_count": 35,
   "id": "38d2d5d0-acfb-48a5-a99d-63d98a5eca74",
   "metadata": {},
   "outputs": [],
   "source": [
    "import pandas as pd\n",
    "import numpy as np\n",
    "import matplotlib.pyplot as plt"
   ]
  },
  {
   "cell_type": "code",
   "execution_count": 36,
   "id": "a6a63648-3b10-4870-baac-a5391510d90c",
   "metadata": {},
   "outputs": [],
   "source": [
    "df = pd.read_csv('datasets/OnlineRetail.csv', encoding='ISO-8859-1')"
   ]
  },
  {
   "cell_type": "code",
   "execution_count": 37,
   "id": "cd152a63-b499-4c70-83bc-4c040e890573",
   "metadata": {},
   "outputs": [
    {
     "data": {
      "text/html": [
       "<div>\n",
       "<style scoped>\n",
       "    .dataframe tbody tr th:only-of-type {\n",
       "        vertical-align: middle;\n",
       "    }\n",
       "\n",
       "    .dataframe tbody tr th {\n",
       "        vertical-align: top;\n",
       "    }\n",
       "\n",
       "    .dataframe thead th {\n",
       "        text-align: right;\n",
       "    }\n",
       "</style>\n",
       "<table border=\"1\" class=\"dataframe\">\n",
       "  <thead>\n",
       "    <tr style=\"text-align: right;\">\n",
       "      <th></th>\n",
       "      <th>InvoiceNo</th>\n",
       "      <th>StockCode</th>\n",
       "      <th>Description</th>\n",
       "      <th>Quantity</th>\n",
       "      <th>InvoiceDate</th>\n",
       "      <th>UnitPrice</th>\n",
       "      <th>CustomerID</th>\n",
       "      <th>Country</th>\n",
       "    </tr>\n",
       "  </thead>\n",
       "  <tbody>\n",
       "    <tr>\n",
       "      <th>0</th>\n",
       "      <td>536365</td>\n",
       "      <td>85123A</td>\n",
       "      <td>WHITE HANGING HEART T-LIGHT HOLDER</td>\n",
       "      <td>6</td>\n",
       "      <td>12/1/2010 8:26</td>\n",
       "      <td>2.55</td>\n",
       "      <td>17850.0</td>\n",
       "      <td>United Kingdom</td>\n",
       "    </tr>\n",
       "    <tr>\n",
       "      <th>1</th>\n",
       "      <td>536365</td>\n",
       "      <td>71053</td>\n",
       "      <td>WHITE METAL LANTERN</td>\n",
       "      <td>6</td>\n",
       "      <td>12/1/2010 8:26</td>\n",
       "      <td>3.39</td>\n",
       "      <td>17850.0</td>\n",
       "      <td>United Kingdom</td>\n",
       "    </tr>\n",
       "    <tr>\n",
       "      <th>2</th>\n",
       "      <td>536365</td>\n",
       "      <td>84406B</td>\n",
       "      <td>CREAM CUPID HEARTS COAT HANGER</td>\n",
       "      <td>8</td>\n",
       "      <td>12/1/2010 8:26</td>\n",
       "      <td>2.75</td>\n",
       "      <td>17850.0</td>\n",
       "      <td>United Kingdom</td>\n",
       "    </tr>\n",
       "    <tr>\n",
       "      <th>3</th>\n",
       "      <td>536365</td>\n",
       "      <td>84029G</td>\n",
       "      <td>KNITTED UNION FLAG HOT WATER BOTTLE</td>\n",
       "      <td>6</td>\n",
       "      <td>12/1/2010 8:26</td>\n",
       "      <td>3.39</td>\n",
       "      <td>17850.0</td>\n",
       "      <td>United Kingdom</td>\n",
       "    </tr>\n",
       "    <tr>\n",
       "      <th>4</th>\n",
       "      <td>536365</td>\n",
       "      <td>84029E</td>\n",
       "      <td>RED WOOLLY HOTTIE WHITE HEART.</td>\n",
       "      <td>6</td>\n",
       "      <td>12/1/2010 8:26</td>\n",
       "      <td>3.39</td>\n",
       "      <td>17850.0</td>\n",
       "      <td>United Kingdom</td>\n",
       "    </tr>\n",
       "    <tr>\n",
       "      <th>...</th>\n",
       "      <td>...</td>\n",
       "      <td>...</td>\n",
       "      <td>...</td>\n",
       "      <td>...</td>\n",
       "      <td>...</td>\n",
       "      <td>...</td>\n",
       "      <td>...</td>\n",
       "      <td>...</td>\n",
       "    </tr>\n",
       "    <tr>\n",
       "      <th>541904</th>\n",
       "      <td>581587</td>\n",
       "      <td>22613</td>\n",
       "      <td>PACK OF 20 SPACEBOY NAPKINS</td>\n",
       "      <td>12</td>\n",
       "      <td>12/9/2011 12:50</td>\n",
       "      <td>0.85</td>\n",
       "      <td>12680.0</td>\n",
       "      <td>France</td>\n",
       "    </tr>\n",
       "    <tr>\n",
       "      <th>541905</th>\n",
       "      <td>581587</td>\n",
       "      <td>22899</td>\n",
       "      <td>CHILDREN'S APRON DOLLY GIRL</td>\n",
       "      <td>6</td>\n",
       "      <td>12/9/2011 12:50</td>\n",
       "      <td>2.10</td>\n",
       "      <td>12680.0</td>\n",
       "      <td>France</td>\n",
       "    </tr>\n",
       "    <tr>\n",
       "      <th>541906</th>\n",
       "      <td>581587</td>\n",
       "      <td>23254</td>\n",
       "      <td>CHILDRENS CUTLERY DOLLY GIRL</td>\n",
       "      <td>4</td>\n",
       "      <td>12/9/2011 12:50</td>\n",
       "      <td>4.15</td>\n",
       "      <td>12680.0</td>\n",
       "      <td>France</td>\n",
       "    </tr>\n",
       "    <tr>\n",
       "      <th>541907</th>\n",
       "      <td>581587</td>\n",
       "      <td>23255</td>\n",
       "      <td>CHILDRENS CUTLERY CIRCUS PARADE</td>\n",
       "      <td>4</td>\n",
       "      <td>12/9/2011 12:50</td>\n",
       "      <td>4.15</td>\n",
       "      <td>12680.0</td>\n",
       "      <td>France</td>\n",
       "    </tr>\n",
       "    <tr>\n",
       "      <th>541908</th>\n",
       "      <td>581587</td>\n",
       "      <td>22138</td>\n",
       "      <td>BAKING SET 9 PIECE RETROSPOT</td>\n",
       "      <td>3</td>\n",
       "      <td>12/9/2011 12:50</td>\n",
       "      <td>4.95</td>\n",
       "      <td>12680.0</td>\n",
       "      <td>France</td>\n",
       "    </tr>\n",
       "  </tbody>\n",
       "</table>\n",
       "<p>541909 rows × 8 columns</p>\n",
       "</div>"
      ],
      "text/plain": [
       "       InvoiceNo StockCode                          Description  Quantity  \\\n",
       "0         536365    85123A   WHITE HANGING HEART T-LIGHT HOLDER         6   \n",
       "1         536365     71053                  WHITE METAL LANTERN         6   \n",
       "2         536365    84406B       CREAM CUPID HEARTS COAT HANGER         8   \n",
       "3         536365    84029G  KNITTED UNION FLAG HOT WATER BOTTLE         6   \n",
       "4         536365    84029E       RED WOOLLY HOTTIE WHITE HEART.         6   \n",
       "...          ...       ...                                  ...       ...   \n",
       "541904    581587     22613          PACK OF 20 SPACEBOY NAPKINS        12   \n",
       "541905    581587     22899         CHILDREN'S APRON DOLLY GIRL          6   \n",
       "541906    581587     23254        CHILDRENS CUTLERY DOLLY GIRL          4   \n",
       "541907    581587     23255      CHILDRENS CUTLERY CIRCUS PARADE         4   \n",
       "541908    581587     22138        BAKING SET 9 PIECE RETROSPOT          3   \n",
       "\n",
       "            InvoiceDate  UnitPrice  CustomerID         Country  \n",
       "0        12/1/2010 8:26       2.55     17850.0  United Kingdom  \n",
       "1        12/1/2010 8:26       3.39     17850.0  United Kingdom  \n",
       "2        12/1/2010 8:26       2.75     17850.0  United Kingdom  \n",
       "3        12/1/2010 8:26       3.39     17850.0  United Kingdom  \n",
       "4        12/1/2010 8:26       3.39     17850.0  United Kingdom  \n",
       "...                 ...        ...         ...             ...  \n",
       "541904  12/9/2011 12:50       0.85     12680.0          France  \n",
       "541905  12/9/2011 12:50       2.10     12680.0          France  \n",
       "541906  12/9/2011 12:50       4.15     12680.0          France  \n",
       "541907  12/9/2011 12:50       4.15     12680.0          France  \n",
       "541908  12/9/2011 12:50       4.95     12680.0          France  \n",
       "\n",
       "[541909 rows x 8 columns]"
      ]
     },
     "execution_count": 37,
     "metadata": {},
     "output_type": "execute_result"
    }
   ],
   "source": [
    "df"
   ]
  },
  {
   "cell_type": "markdown",
   "id": "61b3e632-704d-456c-8f22-2399ddd88b82",
   "metadata": {},
   "source": [
    "<h3>Step 2: Clean the Data</h3>\n",
    "<h4>Drop non-numeric columns for PCA:</h4>"
   ]
  },
  {
   "cell_type": "code",
   "execution_count": 39,
   "id": "9b5772c3-a755-4796-8823-9941c42f7178",
   "metadata": {},
   "outputs": [],
   "source": [
    "x = df.drop(columns=['InvoiceNo', 'StockCode', 'Description', 'InvoiceDate', 'Country'])"
   ]
  },
  {
   "cell_type": "markdown",
   "id": "04f8f7be-3a74-4b79-8b4d-f55b11d0edf8",
   "metadata": {},
   "source": [
    "<h3>Step 3: Standardize (Mean = 0, Std = 1)</h3>"
   ]
  },
  {
   "cell_type": "code",
   "execution_count": 41,
   "id": "78c97b67-3254-439a-beb2-103e2845e044",
   "metadata": {},
   "outputs": [
    {
     "name": "stdout",
     "output_type": "stream",
     "text": [
      "   Quantity  UnitPrice  CustomerID\n",
      "0  -3.55225  -2.061114  2562.30943\n",
      "1  -3.55225  -1.221114  2562.30943\n",
      "2  -1.55225  -1.861114  2562.30943\n",
      "3  -3.55225  -1.221114  2562.30943\n",
      "4  -3.55225  -1.221114  2562.30943\n"
     ]
    }
   ],
   "source": [
    "x = x.fillna(x.mean())\n",
    "\n",
    "x_meaned=x-np.mean(x, axis=0)\n",
    "print(x_meaned[:5])"
   ]
  },
  {
   "cell_type": "markdown",
   "id": "e3f4567e-d7ff-4f0b-8c68-4b5190560e3d",
   "metadata": {},
   "source": [
    "<h3>Step 4: Compute Covariance Matrix</h3>"
   ]
  },
  {
   "cell_type": "code",
   "execution_count": 43,
   "id": "fe1fed45-a806-4204-8700-7e0947c8fb66",
   "metadata": {},
   "outputs": [
    {
     "data": {
      "text/plain": [
       "array([[ 4.75593914e+04, -2.60587613e+01, -1.15166147e+03],\n",
       "       [-2.60587613e+01,  9.36246916e+03, -4.06581216e+02],\n",
       "       [-1.15166147e+03, -4.06581216e+02,  2.20447072e+06]])"
      ]
     },
     "execution_count": 43,
     "metadata": {},
     "output_type": "execute_result"
    }
   ],
   "source": [
    "cov_mat=np.cov(x_meaned, rowvar=False)\n",
    "cov_mat"
   ]
  },
  {
   "cell_type": "markdown",
   "id": "f88c09ec-f6ef-402c-8386-970cfc7cfc0a",
   "metadata": {},
   "source": [
    "<h3>Step 5: Compute Eigenvalues and Eigenvectors</h3>\n",
    "<h4>Sort eigenvalues and eigenvectors in descending order:</h4>"
   ]
  },
  {
   "cell_type": "code",
   "execution_count": 45,
   "id": "814fe1c2-18c5-4350-aa7f-79b77f7a7086",
   "metadata": {},
   "outputs": [
    {
     "name": "stdout",
     "output_type": "stream",
     "text": [
      "Eigen Values:\n",
      " [   9362.37578651   47558.79456675 2204471.40580767]\n",
      "Eigen Vectors:\n",
      " [[-6.87815061e-04  9.99999621e-01 -5.33937617e-04]\n",
      " [-9.99999746e-01 -6.87914040e-04 -1.85215062e-04]\n",
      " [-1.85582295e-04  5.33810088e-04  9.99999840e-01]]\n",
      "Index:\n",
      " [2 1 0]\n",
      "Eigen Values:\n",
      " [   9362.37578651   47558.79456675 2204471.40580767]\n",
      "Eigen Vectors:\n",
      " [[-6.87815061e-04  9.99999621e-01 -5.33937617e-04]\n",
      " [-9.99999746e-01 -6.87914040e-04 -1.85215062e-04]\n",
      " [-1.85582295e-04  5.33810088e-04  9.99999840e-01]]\n"
     ]
    }
   ],
   "source": [
    "eigen_values, eigen_vectors = np.linalg.eigh(cov_mat)\n",
    "\n",
    "print(\"Eigen Values:\\n\", eigen_values)\n",
    "print(\"Eigen Vectors:\\n\", eigen_vectors)\n",
    "\n",
    "# argsort (sort by index)\n",
    "sorted_index = np.argsort(eigen_values)[::-1]\n",
    "sorted_eigen_values = eigen_values[sorted_index]\n",
    "sorted_eigen_vectors = eigen_vectors[:, sorted_index]\n",
    "\n",
    "print(\"Index:\\n\", sorted_index)\n",
    "print(\"Eigen Values:\\n\", eigen_values)\n",
    "print(\"Eigen Vectors:\\n\", eigen_vectors)"
   ]
  },
  {
   "cell_type": "code",
   "execution_count": 46,
   "id": "9738af4d-b8b9-4e08-b3e4-f99cce388af4",
   "metadata": {},
   "outputs": [
    {
     "name": "stdout",
     "output_type": "stream",
     "text": [
      "Quantity      0\n",
      "UnitPrice     0\n",
      "CustomerID    0\n",
      "dtype: int64\n"
     ]
    }
   ],
   "source": [
    "print(x.isnull().sum())  # shows count of NaNs in each column"
   ]
  },
  {
   "cell_type": "markdown",
   "id": "5dfbcb73-a91d-4bea-a1fa-494d3be646da",
   "metadata": {},
   "source": [
    "<h3>Step 6: Project Data onto Top K Principal Components (e.g., 2)</h3>"
   ]
  },
  {
   "cell_type": "code",
   "execution_count": 48,
   "id": "cdf7c8b2-e75a-4511-8ad0-7c6f19cce9f8",
   "metadata": {},
   "outputs": [
    {
     "data": {
      "text/plain": [
       "array([[ 2.56231130e+03, -2.18304371e+00],\n",
       "       [ 2.56231114e+03, -2.18362156e+00],\n",
       "       [ 2.56231019e+03, -1.83182051e-01],\n",
       "       ...,\n",
       "       [-2.60768710e+03, -6.94394177e+00],\n",
       "       [-2.60768710e+03, -6.94394177e+00],\n",
       "       [-2.60768672e+03, -7.94449172e+00]])"
      ]
     },
     "execution_count": 48,
     "metadata": {},
     "output_type": "execute_result"
    }
   ],
   "source": [
    "k = 2\n",
    "eigenvector_subset = sorted_eigen_vectors[:, 0:k]\n",
    "eigenvector_subset.shape\n",
    "\n",
    "x_reduced = np.dot(x_meaned, eigenvector_subset)\n",
    "x_reduced"
   ]
  },
  {
   "cell_type": "markdown",
   "id": "11585a1b-ed78-448b-bb21-c74940294f71",
   "metadata": {},
   "source": [
    "<h3>Step 7: Plot the PCA Result</h3>"
   ]
  },
  {
   "cell_type": "code",
   "execution_count": 50,
   "id": "237b0aec-3e30-49a6-8f8e-237a31a683d2",
   "metadata": {},
   "outputs": [
    {
     "name": "stderr",
     "output_type": "stream",
     "text": [
      "C:\\Users\\LENOVO\\AppData\\Local\\Temp\\ipykernel_16260\\2782629423.py:1: UserWarning: No data for colormapping provided via 'c'. Parameters 'cmap' will be ignored\n",
      "  plt.scatter(x_reduced[:,0], x_reduced[:,1], cmap='viridis')\n"
     ]
    },
    {
     "data": {
      "image/png": "[encoded data removed]",
      "text/plain": [
       "<Figure size 640x480 with 1 Axes>"
      ]
     },
     "metadata": {},
     "output_type": "display_data"
    }
   ],
   "source": [
    "plt.scatter(x_reduced[:,0], x_reduced[:,1], cmap='viridis')\n",
    "plt.xlabel(\"Principal Component 1\")\n",
    "plt.ylabel(\"Principal Component 2\")\n",
    "plt.title(\"PCA - Online Retail Dataset\")\n",
    "plt.grid(True)\n",
    "plt.show()"
   ]
  },
  {
   "cell_type": "code",
   "execution_count": 63,
   "id": "522cf4d5-05f3-4121-a1d6-594517de07c9",
   "metadata": {},
   "outputs": [
    {
     "name": "stdout",
     "output_type": "stream",
     "text": [
      "Quantity: PC1 = -0.0007, PC2 = 1.0000\n",
      "UnitPrice: PC1 = -1.0000, PC2 = -0.0007\n"
     ]
    }
   ],
   "source": [
    "# Loadings: each column = PC, each row = feature\n",
    "loadings = eigen_vectors[:, :2]\n",
    "\n",
    "# Match with feature names\n",
    "features = ['Quantity', 'UnitPrice']\n",
    "\n",
    "# Create readable table\n",
    "for i, feature in enumerate(features):\n",
    "    print(f\"{feature}: PC1 = {loadings[i,0]:.4f}, PC2 = {loadings[i,1]:.4f}\")\n"
   ]
  },
  {
   "cell_type": "code",
   "execution_count": null,
   "id": "ed620c8c-f3c9-4451-ab8b-6e3e31f38590",
   "metadata": {},
   "outputs": [],
   "source": []
  }
 ],
 "metadata": {
  "kernelspec": {
   "display_name": "Python 3 (ipykernel)",
   "language": "python",
   "name": "python3"
  },
  "language_info": {
   "codemirror_mode": {
    "name": "ipython",
    "version": 3
   },
   "file_extension": ".py",
   "mimetype": "text/x-python",
   "name": "python",
   "nbconvert_exporter": "python",
   "pygments_lexer": "ipython3",
   "version": "3.12.7"
  }
 },
 "nbformat": 4,
 "nbformat_minor": 5
}
