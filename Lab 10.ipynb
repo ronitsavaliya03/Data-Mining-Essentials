{
 "cells": [
  {
   "cell_type": "markdown",
   "id": "02b33ee5",
   "metadata": {},
   "source": [
    "<a href='https://www.darshan.ac.in/'> <img src='https://www.darshan.ac.in/Content/media/DU_Logo.svg' width=\"250\" height=\"300\"/></a>\n",
    "<pre>\n",
    "<center><b><h1>Data Mining</b></center>\n",
    "<center><b><h1>Lab - 10</b></center>    \n",
    "<pre>"
   ]
  },
  {
   "cell_type": "markdown",
   "id": "0a09b1b5",
   "metadata": {},
   "source": [
    "\n",
    "\n",
    "# Implement Decision Tree(ID3) in python\n",
    "Uses Information Gain to choose the best feature to split. \n",
    "\n",
    "Recursively builds the tree until stopping conditions are met."
   ]
  },
  {
   "cell_type": "markdown",
   "id": "a811596d",
   "metadata": {},
   "source": [
    "1) Calculate Entropy for the dataset.<BR>\n",
    "2) Calculate Information Gain for each feature. <BR>\n",
    "3) Choose the feature with maximum Information Gain. <BR>\n",
    "4) Split dataset into subsets for that feature. <BR>\n",
    "5) Repeat recursively until: <BR>\n",
    "\n",
    "All samples in a node have the same label.<BR>\n",
    "No features are left.<BR>\n",
    "No data is left."
   ]
  },
  {
   "cell_type": "markdown",
   "id": "a2a39aab",
   "metadata": {},
   "source": [
    "### Step 2. Import the dataset from this [address](https://raw.githubusercontent.com/justmarkham/DAT8/master/data/chipotle.tsv). "
   ]
  },
  {
   "cell_type": "markdown",
   "id": "6116e372",
   "metadata": {},
   "source": [
    "##  import Pandas, Numpy"
   ]
  },
  {
   "cell_type": "code",
   "execution_count": 6,
   "id": "e30bca04",
   "metadata": {},
   "outputs": [],
   "source": [
    "import pandas as pd \n",
    "import numpy as np"
   ]
  },
  {
   "cell_type": "code",
   "execution_count": 7,
   "id": "6b497282",
   "metadata": {},
   "outputs": [
    {
     "name": "stdout",
     "output_type": "stream",
     "text": [
      "      order_id  quantity                              item_name  \\\n",
      "0            1         1           Chips and Fresh Tomato Salsa   \n",
      "1            1         1                                   Izze   \n",
      "2            1         1                       Nantucket Nectar   \n",
      "3            1         1  Chips and Tomatillo-Green Chili Salsa   \n",
      "4            2         2                           Chicken Bowl   \n",
      "...        ...       ...                                    ...   \n",
      "4617      1833         1                          Steak Burrito   \n",
      "4618      1833         1                          Steak Burrito   \n",
      "4619      1834         1                     Chicken Salad Bowl   \n",
      "4620      1834         1                     Chicken Salad Bowl   \n",
      "4621      1834         1                     Chicken Salad Bowl   \n",
      "\n",
      "                                     choice_description item_price  \n",
      "0                                                   NaN     $2.39   \n",
      "1                                          [Clementine]     $3.39   \n",
      "2                                               [Apple]     $3.39   \n",
      "3                                                   NaN     $2.39   \n",
      "4     [Tomatillo-Red Chili Salsa (Hot), [Black Beans...    $16.98   \n",
      "...                                                 ...        ...  \n",
      "4617  [Fresh Tomato Salsa, [Rice, Black Beans, Sour ...    $11.75   \n",
      "4618  [Fresh Tomato Salsa, [Rice, Sour Cream, Cheese...    $11.75   \n",
      "4619  [Fresh Tomato Salsa, [Fajita Vegetables, Pinto...    $11.25   \n",
      "4620  [Fresh Tomato Salsa, [Fajita Vegetables, Lettu...     $8.75   \n",
      "4621  [Fresh Tomato Salsa, [Fajita Vegetables, Pinto...     $8.75   \n",
      "\n",
      "[4622 rows x 5 columns]\n"
     ]
    }
   ],
   "source": [
    "url = \"https://raw.githubusercontent.com/justmarkham/DAT8/master/data/chipotle.tsv\"\n",
    "\n",
    "csv_data = pd.read_csv(url,sep='\\t')\n",
    "print(csv_data)"
   ]
  },
  {
   "cell_type": "markdown",
   "id": "c6040543",
   "metadata": {},
   "source": [
    "##  Create Following Data"
   ]
  },
  {
   "cell_type": "code",
   "execution_count": 9,
   "id": "060c6cb6",
   "metadata": {},
   "outputs": [],
   "source": [
    "data = pd.DataFrame({\n",
    "    'Outlook': ['Sunny', 'Sunny', 'Overcast', 'Rain', 'Rain', 'Rain', 'Overcast', 'Sunny', 'Sunny', 'Rain', 'Sunny', 'Overcast', 'Overcast', 'Rain'],\n",
    "    'Temperature': ['Hot', 'Hot', 'Hot', 'Mild', 'Cool', 'Cool', 'Cool', 'Mild', 'Cool', 'Mild', 'Mild', 'Mild', 'Hot', 'Mild'],\n",
    "    'Humidity': ['High', 'High', 'High', 'High', 'Normal', 'Normal', 'Normal', 'High', 'Normal', 'Normal', 'Normal', 'High', 'Normal', 'High'],\n",
    "    'Wind': ['Weak', 'Strong', 'Weak', 'Weak', 'Weak', 'Strong', 'Strong', 'Weak', 'Weak', 'Weak', 'Strong', 'Strong', 'Weak', 'Strong'],\n",
    "    'PlayTennis': ['No', 'No', 'Yes', 'Yes', 'Yes', 'No', 'Yes', 'No', 'Yes', 'Yes', 'Yes', 'Yes', 'Yes', 'No']\n",
    "})\n",
    "\n",
    "bookdata = pd.DataFrame({\n",
    "    'a1':['t','t','f','f','f','t','t','t','f','f'],\n",
    "    'a2':['h','h','h','c','c','c','h','h','c','c'],\n",
    "    'a3':['hi','hi','hi','nor','nor','hi','hi','nor','nor','hi'],\n",
    "    'class':['n','n','y','y','y','n','n','y','y','y']\n",
    "})"
   ]
  },
  {
   "cell_type": "code",
   "execution_count": null,
   "id": "b0fc0487",
   "metadata": {},
   "outputs": [],
   "source": []
  },
  {
   "cell_type": "markdown",
   "id": "4b3143f3",
   "metadata": {},
   "source": [
    "## Now Define Function to  Calculate Entropy"
   ]
  },
  {
   "cell_type": "code",
   "execution_count": 11,
   "id": "c355d01d",
   "metadata": {},
   "outputs": [],
   "source": [
    "def entropy(y):\n",
    "\n",
    "    unique_labels, counts = np.unique(y, return_counts=True)\n",
    "    probabilities = counts / counts.sum()\n",
    "\n",
    "    entropy_value = -np.sum(probabilities * np.log2(probabilities))\n",
    "    return entropy_value\n",
    "\n"
   ]
  },
  {
   "cell_type": "markdown",
   "id": "f78c29c1",
   "metadata": {},
   "source": [
    "## Testing of Above Function - \n",
    "y = np.array(['Yes', 'No',   'Yes', 'Yes'])  \n",
    "Function Call - > entropy(y))\n",
    "\n",
    "output - 0.8112781244591328"
   ]
  },
  {
   "cell_type": "code",
   "execution_count": 13,
   "id": "9ad3df81",
   "metadata": {},
   "outputs": [
    {
     "name": "stdout",
     "output_type": "stream",
     "text": [
      "0.9709505944546686\n"
     ]
    }
   ],
   "source": [
    "\n",
    "y = np.array(['No', 'No', 'Yes', 'Yes','Yes','No','No','Yes','Yes','Yes'])\n",
    "print(entropy(y))  "
   ]
  },
  {
   "cell_type": "markdown",
   "id": "c3ad0412",
   "metadata": {},
   "source": [
    "## Define function to Calculate Information Gain"
   ]
  },
  {
   "cell_type": "code",
   "execution_count": 15,
   "id": "3ccc1ba9",
   "metadata": {},
   "outputs": [],
   "source": [
    "def information_gain(data, split_attribute, target):\n",
    "    # Calculate total entropy of the target\n",
    "    total_entropy = entropy(data[target])\n",
    "\n",
    "    # Find unique values of the splitting attribute\n",
    "    values, counts = np.unique(data[split_attribute], return_counts=True)\n",
    "\n",
    "    # Calculate weighted entropy after splitting\n",
    "    weighted_entropy = 0\n",
    "    for value, count in zip(values, counts):\n",
    "        subset = data[data[split_attribute] == value]\n",
    "        weighted_entropy += (count / len(data)) * entropy(subset[target])\n",
    "\n",
    "    # Information Gain formula\n",
    "    info_gain = total_entropy - weighted_entropy\n",
    "    return info_gain\n",
    "   "
   ]
  },
  {
   "cell_type": "markdown",
   "id": "04284268",
   "metadata": {},
   "source": [
    "## Testing of Above Function- \n",
    "data = pd.DataFrame({\n",
    "    'Weather': ['Sunny', 'Sunny', 'Rain', 'Rain'],\n",
    "    'Play':    ['Yes', 'No',   'Yes', 'Yes']\n",
    "})\n",
    "\n",
    "Function Call - > information_gain(data, 'Weather', 'Play')\n",
    "\n",
    "\n",
    "Output - 0.31127812445913283"
   ]
  },
  {
   "cell_type": "code",
   "execution_count": 17,
   "id": "c01a097d",
   "metadata": {},
   "outputs": [
    {
     "name": "stdout",
     "output_type": "stream",
     "text": [
      "Information Gain: 0.31127812445913283\n"
     ]
    }
   ],
   "source": [
    "\n",
    "data = pd.DataFrame({\n",
    "    'Weather': ['Sunny', 'Sunny', 'Rain', 'Rain'],\n",
    "    'Play':    ['Yes', 'No',   'Yes', 'Yes']\n",
    "})\n",
    "\n",
    "print(\"Information Gain:\", information_gain(data, 'Weather', 'Play'))\n"
   ]
  },
  {
   "cell_type": "markdown",
   "id": "3b13d66b",
   "metadata": {},
   "source": [
    "## Implement ID3 Algo"
   ]
  },
  {
   "cell_type": "code",
   "execution_count": 19,
   "id": "e24c1ace",
   "metadata": {},
   "outputs": [],
   "source": [
    "def id3(data, target, features):\n",
    "    # If all examples are same class → leaf node\n",
    "    if len(np.unique(data[target])) == 1:\n",
    "        return np.unique(data[target])[0]\n",
    "    \n",
    "    # If no more features left → return majority class\n",
    "    if len(features) == 0:\n",
    "        return data[target].mode()[0]\n",
    "    \n",
    "    # Choose feature with max IG\n",
    "    gains = [information_gain(data, f, target) for f in features]\n",
    "    best_feature = features[np.argmax(gains)]\n",
    "    \n",
    "    # Create tree dict\n",
    "    tree = {best_feature: {}}\n",
    "    for value in np.unique(data[best_feature]):\n",
    "        subset = data[data[best_feature] == value].drop(columns = [best_feature])\n",
    "        subtree = id3(subset, target, [f for f in features if f != best_feature])\n",
    "        tree[best_feature][value] = subtree\n",
    "    \n",
    "    return tree"
   ]
  },
  {
   "cell_type": "markdown",
   "id": "ae7b171a",
   "metadata": {},
   "source": [
    "## Use ID3"
   ]
  },
  {
   "cell_type": "code",
   "execution_count": 27,
   "id": "f3a2845c",
   "metadata": {},
   "outputs": [
    {
     "name": "stdout",
     "output_type": "stream",
     "text": [
      "{'Outlook': {'Overcast': 'Yes', 'Rain': {'Wind': {'Strong': 'No', 'Weak': 'Yes'}}, 'Sunny': {'Humidity': {'High': 'No', 'Normal': 'Yes'}}}}\n"
     ]
    }
   ],
   "source": [
    "# Test dataset\n",
    "# data = pd.DataFrame({\n",
    "#     'Weather': ['Sunny', 'Sunny', 'Rain', 'Rain', 'Overcast'],\n",
    "#     'Temperature': ['Hot', 'Mild', 'Hot', 'Mild', 'Hot'],\n",
    "#     'Play': ['No', 'Yes', 'Yes', 'Yes', 'Yes']\n",
    "# })\n",
    "\n",
    "data = pd.DataFrame({\n",
    "    'Outlook': ['Sunny', 'Sunny', 'Overcast', 'Rain', 'Rain', 'Rain', 'Overcast', 'Sunny', 'Sunny', 'Rain', 'Sunny', 'Overcast', 'Overcast', 'Rain'],\n",
    "    'Temperature': ['Hot', 'Hot', 'Hot', 'Mild', 'Cool', 'Cool', 'Cool', 'Mild', 'Cool', 'Mild', 'Mild', 'Mild', 'Hot', 'Mild'],\n",
    "    'Humidity': ['High', 'High', 'High', 'High', 'Normal', 'Normal', 'Normal', 'High', 'Normal', 'Normal', 'Normal', 'High', 'Normal', 'High'],\n",
    "    'Wind': ['Weak', 'Strong', 'Weak', 'Weak', 'Weak', 'Strong', 'Strong', 'Weak', 'Weak', 'Weak', 'Strong', 'Strong', 'Weak', 'Strong'],\n",
    "    'PlayTennis': ['No', 'No', 'Yes', 'Yes', 'Yes', 'No', 'Yes', 'No', 'Yes', 'Yes', 'Yes', 'Yes', 'Yes', 'No']\n",
    "})\n",
    "\n",
    "features = ['Outlook', 'Temperature','Humidity', 'Wind']\n",
    "tree = id3(data, 'PlayTennis', features)\n",
    "print(tree)"
   ]
  },
  {
   "cell_type": "markdown",
   "id": "4d2956ef",
   "metadata": {},
   "source": [
    "## Print Tree"
   ]
  },
  {
   "cell_type": "code",
   "execution_count": 29,
   "id": "d4b746b7",
   "metadata": {},
   "outputs": [
    {
     "name": "stdout",
     "output_type": "stream",
     "text": [
      "{'Outlook': {'Overcast': 'Yes', 'Rain': {'Wind': {'Strong': 'No', 'Weak': 'Yes'}}, 'Sunny': {'Humidity': {'High': 'No', 'Normal': 'Yes'}}}}\n"
     ]
    }
   ],
   "source": [
    "print(tree)"
   ]
  },
  {
   "cell_type": "markdown",
   "id": "f2acdf44",
   "metadata": {},
   "source": [
    "## Extra: Create Predict Function"
   ]
  },
  {
   "cell_type": "code",
   "execution_count": 31,
   "id": "d36f9f9a",
   "metadata": {},
   "outputs": [],
   "source": [
    "def predict(tree, sample):\n",
    "    # If the node is a leaf node, return the label\n",
    "    if not isinstance(tree, dict):\n",
    "        return tree\n",
    "\n",
    "    # Get the attribute to split on\n",
    "    attribute = list(tree.keys())[0]\n",
    "    attribute_value = sample[attribute]\n",
    "\n",
    "    # Traverse the tree based on the attribute value\n",
    "    if attribute_value in tree[attribute]:\n",
    "        return predict(tree[attribute][attribute_value], sample)\n",
    "    else:\n",
    "        # Handle cases where the attribute value is not in the tree (e.g., return majority class of the current node's data, or a default value)\n",
    "        # For simplicity, this implementation will return None or raise an error.\n",
    "        # A more robust implementation would handle unknown values.\n",
    "        return None # Or raise an error"
   ]
  },
  {
   "cell_type": "markdown",
   "id": "83859592",
   "metadata": {},
   "source": [
    "##  Extra: Predict for a sample\n",
    "sample = {'Outlook': 'Sunny', 'Temperature': 'Cool', 'Humidity': 'High', 'Wind': 'Strong'}\n",
    "\n",
    "\n",
    "Your Answer ?"
   ]
  },
  {
   "cell_type": "code",
   "execution_count": 34,
   "id": "fa44fb7e",
   "metadata": {},
   "outputs": [],
   "source": [
    "sample = {'Outlook': 'Sunny', 'Temperature': 'Cool', 'Humidity': 'High', 'Wind': 'Strong'}"
   ]
  },
  {
   "cell_type": "code",
   "execution_count": 38,
   "id": "667a3fdd",
   "metadata": {},
   "outputs": [
    {
     "name": "stdout",
     "output_type": "stream",
     "text": [
      "Prediction: No\n"
     ]
    }
   ],
   "source": [
    "prediction = predict(tree, sample)\n",
    "print(\"Prediction:\", prediction)"
   ]
  },
  {
   "cell_type": "code",
   "execution_count": null,
   "id": "ee60b00f-1f5d-4efb-b3de-0a80503e76ec",
   "metadata": {},
   "outputs": [],
   "source": []
  }
 ],
 "metadata": {
  "kernelspec": {
   "display_name": "Python 3 (ipykernel)",
   "language": "python",
   "name": "python3"
  },
  "language_info": {
   "codemirror_mode": {
    "name": "ipython",
    "version": 3
   },
   "file_extension": ".py",
   "mimetype": "text/x-python",
   "name": "python",
   "nbconvert_exporter": "python",
   "pygments_lexer": "ipython3",
   "version": "3.12.7"
  }
 },
 "nbformat": 4,
 "nbformat_minor": 5
}
